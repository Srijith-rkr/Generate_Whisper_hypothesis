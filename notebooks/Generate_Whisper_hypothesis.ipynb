{
  "nbformat": 4,
  "nbformat_minor": 0,
  "metadata": {
    "colab": {
      "provenance": []
    },
    "kernelspec": {
      "name": "python3",
      "display_name": "Python 3"
    },
    "language_info": {
      "name": "python"
    },
    "accelerator": "TPU"
  },
  "cells": [
    {
      "cell_type": "markdown",
      "source": [
        "Cloning and installing the required dependencies"
      ],
      "metadata": {
        "id": "Bm_EnDyFp16v"
      }
    },
    {
      "cell_type": "code",
      "execution_count": 1,
      "metadata": {
        "id": "o66R_hfUaxTR"
      },
      "outputs": [],
      "source": [
        "%%capture\n",
        "!git clone https://github.com/Srijith-rkr/Generate_Whisper_hypothesis.git\n",
        "%cd Generate_Whisper_hypothesis\n",
        "!pip3 install -r requirements.txt\n",
        "import generate_whisper_hypothesis as whisper\n",
        "import numpy"
      ]
    },
    {
      "cell_type": "markdown",
      "source": [
        "You can input your own audio file here or modify the code with the path to your audio files."
      ],
      "metadata": {
        "id": "0G4HUFECsLly"
      }
    },
    {
      "cell_type": "code",
      "source": [
        "import io\n",
        "from google.colab import files\n",
        "uploaded_file = files.upload()"
      ],
      "metadata": {
        "colab": {
          "base_uri": "https://localhost:8080/",
          "height": 73
        },
        "id": "Smu8LeOlbFsC",
        "outputId": "9fb338b3-4be6-4d52-ddee-946215bdb361"
      },
      "execution_count": 2,
      "outputs": [
        {
          "output_type": "display_data",
          "data": {
            "text/plain": [
              "<IPython.core.display.HTML object>"
            ],
            "text/html": [
              "\n",
              "     <input type=\"file\" id=\"files-4cea8c9e-fba0-4d5e-a764-4cbbe66b6feb\" name=\"files[]\" multiple disabled\n",
              "        style=\"border:none\" />\n",
              "     <output id=\"result-4cea8c9e-fba0-4d5e-a764-4cbbe66b6feb\">\n",
              "      Upload widget is only available when the cell has been executed in the\n",
              "      current browser session. Please rerun this cell to enable.\n",
              "      </output>\n",
              "      <script>// Copyright 2017 Google LLC\n",
              "//\n",
              "// Licensed under the Apache License, Version 2.0 (the \"License\");\n",
              "// you may not use this file except in compliance with the License.\n",
              "// You may obtain a copy of the License at\n",
              "//\n",
              "//      http://www.apache.org/licenses/LICENSE-2.0\n",
              "//\n",
              "// Unless required by applicable law or agreed to in writing, software\n",
              "// distributed under the License is distributed on an \"AS IS\" BASIS,\n",
              "// WITHOUT WARRANTIES OR CONDITIONS OF ANY KIND, either express or implied.\n",
              "// See the License for the specific language governing permissions and\n",
              "// limitations under the License.\n",
              "\n",
              "/**\n",
              " * @fileoverview Helpers for google.colab Python module.\n",
              " */\n",
              "(function(scope) {\n",
              "function span(text, styleAttributes = {}) {\n",
              "  const element = document.createElement('span');\n",
              "  element.textContent = text;\n",
              "  for (const key of Object.keys(styleAttributes)) {\n",
              "    element.style[key] = styleAttributes[key];\n",
              "  }\n",
              "  return element;\n",
              "}\n",
              "\n",
              "// Max number of bytes which will be uploaded at a time.\n",
              "const MAX_PAYLOAD_SIZE = 100 * 1024;\n",
              "\n",
              "function _uploadFiles(inputId, outputId) {\n",
              "  const steps = uploadFilesStep(inputId, outputId);\n",
              "  const outputElement = document.getElementById(outputId);\n",
              "  // Cache steps on the outputElement to make it available for the next call\n",
              "  // to uploadFilesContinue from Python.\n",
              "  outputElement.steps = steps;\n",
              "\n",
              "  return _uploadFilesContinue(outputId);\n",
              "}\n",
              "\n",
              "// This is roughly an async generator (not supported in the browser yet),\n",
              "// where there are multiple asynchronous steps and the Python side is going\n",
              "// to poll for completion of each step.\n",
              "// This uses a Promise to block the python side on completion of each step,\n",
              "// then passes the result of the previous step as the input to the next step.\n",
              "function _uploadFilesContinue(outputId) {\n",
              "  const outputElement = document.getElementById(outputId);\n",
              "  const steps = outputElement.steps;\n",
              "\n",
              "  const next = steps.next(outputElement.lastPromiseValue);\n",
              "  return Promise.resolve(next.value.promise).then((value) => {\n",
              "    // Cache the last promise value to make it available to the next\n",
              "    // step of the generator.\n",
              "    outputElement.lastPromiseValue = value;\n",
              "    return next.value.response;\n",
              "  });\n",
              "}\n",
              "\n",
              "/**\n",
              " * Generator function which is called between each async step of the upload\n",
              " * process.\n",
              " * @param {string} inputId Element ID of the input file picker element.\n",
              " * @param {string} outputId Element ID of the output display.\n",
              " * @return {!Iterable<!Object>} Iterable of next steps.\n",
              " */\n",
              "function* uploadFilesStep(inputId, outputId) {\n",
              "  const inputElement = document.getElementById(inputId);\n",
              "  inputElement.disabled = false;\n",
              "\n",
              "  const outputElement = document.getElementById(outputId);\n",
              "  outputElement.innerHTML = '';\n",
              "\n",
              "  const pickedPromise = new Promise((resolve) => {\n",
              "    inputElement.addEventListener('change', (e) => {\n",
              "      resolve(e.target.files);\n",
              "    });\n",
              "  });\n",
              "\n",
              "  const cancel = document.createElement('button');\n",
              "  inputElement.parentElement.appendChild(cancel);\n",
              "  cancel.textContent = 'Cancel upload';\n",
              "  const cancelPromise = new Promise((resolve) => {\n",
              "    cancel.onclick = () => {\n",
              "      resolve(null);\n",
              "    };\n",
              "  });\n",
              "\n",
              "  // Wait for the user to pick the files.\n",
              "  const files = yield {\n",
              "    promise: Promise.race([pickedPromise, cancelPromise]),\n",
              "    response: {\n",
              "      action: 'starting',\n",
              "    }\n",
              "  };\n",
              "\n",
              "  cancel.remove();\n",
              "\n",
              "  // Disable the input element since further picks are not allowed.\n",
              "  inputElement.disabled = true;\n",
              "\n",
              "  if (!files) {\n",
              "    return {\n",
              "      response: {\n",
              "        action: 'complete',\n",
              "      }\n",
              "    };\n",
              "  }\n",
              "\n",
              "  for (const file of files) {\n",
              "    const li = document.createElement('li');\n",
              "    li.append(span(file.name, {fontWeight: 'bold'}));\n",
              "    li.append(span(\n",
              "        `(${file.type || 'n/a'}) - ${file.size} bytes, ` +\n",
              "        `last modified: ${\n",
              "            file.lastModifiedDate ? file.lastModifiedDate.toLocaleDateString() :\n",
              "                                    'n/a'} - `));\n",
              "    const percent = span('0% done');\n",
              "    li.appendChild(percent);\n",
              "\n",
              "    outputElement.appendChild(li);\n",
              "\n",
              "    const fileDataPromise = new Promise((resolve) => {\n",
              "      const reader = new FileReader();\n",
              "      reader.onload = (e) => {\n",
              "        resolve(e.target.result);\n",
              "      };\n",
              "      reader.readAsArrayBuffer(file);\n",
              "    });\n",
              "    // Wait for the data to be ready.\n",
              "    let fileData = yield {\n",
              "      promise: fileDataPromise,\n",
              "      response: {\n",
              "        action: 'continue',\n",
              "      }\n",
              "    };\n",
              "\n",
              "    // Use a chunked sending to avoid message size limits. See b/62115660.\n",
              "    let position = 0;\n",
              "    do {\n",
              "      const length = Math.min(fileData.byteLength - position, MAX_PAYLOAD_SIZE);\n",
              "      const chunk = new Uint8Array(fileData, position, length);\n",
              "      position += length;\n",
              "\n",
              "      const base64 = btoa(String.fromCharCode.apply(null, chunk));\n",
              "      yield {\n",
              "        response: {\n",
              "          action: 'append',\n",
              "          file: file.name,\n",
              "          data: base64,\n",
              "        },\n",
              "      };\n",
              "\n",
              "      let percentDone = fileData.byteLength === 0 ?\n",
              "          100 :\n",
              "          Math.round((position / fileData.byteLength) * 100);\n",
              "      percent.textContent = `${percentDone}% done`;\n",
              "\n",
              "    } while (position < fileData.byteLength);\n",
              "  }\n",
              "\n",
              "  // All done.\n",
              "  yield {\n",
              "    response: {\n",
              "      action: 'complete',\n",
              "    }\n",
              "  };\n",
              "}\n",
              "\n",
              "scope.google = scope.google || {};\n",
              "scope.google.colab = scope.google.colab || {};\n",
              "scope.google.colab._files = {\n",
              "  _uploadFiles,\n",
              "  _uploadFilesContinue,\n",
              "};\n",
              "})(self);\n",
              "</script> "
            ]
          },
          "metadata": {}
        },
        {
          "output_type": "stream",
          "name": "stdout",
          "text": [
            "Saving jfk.flac to jfk.flac\n"
          ]
        }
      ]
    },
    {
      "cell_type": "markdown",
      "source": [
        "You can choose your model size here. Whisper options are tiny(39M), base(74M), small(244M), medium(769), large(1550M)."
      ],
      "metadata": {
        "id": "NVxDyThOsh2H"
      }
    },
    {
      "cell_type": "code",
      "source": [
        "tiny_model ,_ = whisper.load_model(\"tiny\") # you can change the whisper model size here, example model ,_ = whisper.load_model(\"large\")"
      ],
      "metadata": {
        "id": "Wgl9jMLSfoqo"
      },
      "execution_count": 10,
      "outputs": []
    },
    {
      "cell_type": "code",
      "source": [
        "def return_hypothesis(path, model):\n",
        "  \"\"\"Returns the hypothesis for the given audio path.\n",
        "  Args:\n",
        "    path: The path to the audio file.\n",
        "    model: The Whisper model to use for decoding.\n",
        "  \"\"\"\n",
        "  # To load the audio\n",
        "  audio = whisper.load_audio(path)\n",
        "\n",
        "  # To pad or trim the audio to make it into a 30s input\n",
        "  audio = whisper.pad_or_trim(audio)\n",
        "\n",
        "  # To convert the audion into a log mel spectrogram\n",
        "  mel = whisper.log_mel_spectrogram(audio).to(model.device)\n",
        "\n",
        "  # We choose a random temperature for sampling ([70,80] range works good)\n",
        "  random_temprature = numpy.random.randint(70,81)/100\n",
        "\n",
        "  # Set fp16 to False if you are using a CPU instance, and you can set the number of candidates you want to generate in the 'best_of' argument\n",
        "  options = whisper.DecodingOptions(fp16 = False, without_timestamps = True, temperature=random_temprature, best_of = 100)\n",
        "\n",
        "  result, _ = whisper.decode(model, mel, options)\n",
        "\n",
        "  return list(result)\n"
      ],
      "metadata": {
        "id": "_sbjAJV-fxPX"
      },
      "execution_count": 13,
      "outputs": []
    },
    {
      "cell_type": "code",
      "source": [
        "return_hypothesis('jfk.flac', tiny_model)"
      ],
      "metadata": {
        "colab": {
          "base_uri": "https://localhost:8080/"
        },
        "id": "mY1EiUxNub4P",
        "outputId": "28a519f0-e138-440e-f255-6351254c2294"
      },
      "execution_count": 14,
      "outputs": [
        {
          "output_type": "execute_result",
          "data": {
            "text/plain": [
              "['and so my fellow americans asc not what your country can do for you and asc what you can do for your country',\n",
              " 'and so my fellow americans ask not watch your country can do for you i ask what you can do for your country',\n",
              " 'and so my fellow americans ask not watching your country you can do for you ask what you can do for your country',\n",
              " 'and so my fellow americans ask not what you are country can do for you ask what you can do for your country',\n",
              " 'and so my fellow americans ask not what you are country can do for you asked what you can do for your country',\n",
              " 'and so my fellow americans ask not what your country can dije for you ask what you can do for your country',\n",
              " 'and so my fellow americans ask not what your country can do for you',\n",
              " 'and so my fellow americans ask not what your country can do for you and what you can do for your country',\n",
              " 'and so my fellow americans ask not what your country can do for you as what you can do for your country',\n",
              " 'and so my fellow americans ask not what your country can do for you ask but you can prend you for your country',\n",
              " 'and so my fellow americans ask not what your country can do for you ask what you can do for your country',\n",
              " 'and so my fellow americans ask not what your country can do for you ask what you can do for your country!',\n",
              " 'and so my fellow americans ask not what your country can do for you ask what you hudson',\n",
              " 'and so my fellow americans ask not what your crease can do for you ask what you can do for your country',\n",
              " 'and so my fellow americans ask not what youre country can do for you ask what you can do for your country',\n",
              " 'and so my fellow americans ask nott what your country can do for you ask what you can do for your country',\n",
              " 'and so my fellow americans asked not what your country can do for you ask what you can do for your country',\n",
              " 'and so my fellow americans asked not what your country can do for you asked what you can do for your country',\n",
              " 'and so my fellow americans asks not what your country can do for you ask what you can do for your country',\n",
              " 'and so my fellow americans avoids no one else what your country can do for you ask what you can do for your country',\n",
              " 'and so my fellow americans! ask not! what your country can do for you ask what you can do for your country',\n",
              " 'and so my fellowchos ask not what your country can do for you ask what you can do for your country',\n",
              " 'so my fellow americans ask not what your country can do for you ask what you can do for your country']"
            ]
          },
          "metadata": {},
          "execution_count": 14
        }
      ]
    },
    {
      "cell_type": "markdown",
      "source": [
        "ou can improve the quality by using a larger Whisper model and reducing the temperature. Keep in mind that reducing the temperature also reduces the diversity and hence the number of unique candidates.\n"
      ],
      "metadata": {
        "id": "26nkHRcox6uS"
      }
    }
  ]
}